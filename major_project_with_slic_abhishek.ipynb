{
  "nbformat": 4,
  "nbformat_minor": 0,
  "metadata": {
    "kernelspec": {
      "language": "python",
      "display_name": "Python 3",
      "name": "python3"
    },
    "language_info": {
      "pygments_lexer": "ipython3",
      "nbconvert_exporter": "python",
      "version": "3.6.4",
      "file_extension": ".py",
      "codemirror_mode": {
        "name": "ipython",
        "version": 3
      },
      "name": "python",
      "mimetype": "text/x-python"
    },
    "colab": {
      "name": "major-project-with-slic-abhishek.ipynb",
      "provenance": [],
      "include_colab_link": true
    }
  },
  "cells": [
    {
      "cell_type": "markdown",
      "metadata": {
        "id": "view-in-github",
        "colab_type": "text"
      },
      "source": [
        "<a href=\"https://colab.research.google.com/github/Abhi050/Deeplearning-in-Remote-Sensing/blob/main/major_project_with_slic_abhishek.ipynb\" target=\"_parent\"><img src=\"https://colab.research.google.com/assets/colab-badge.svg\" alt=\"Open In Colab\"/></a>"
      ]
    },
    {
      "cell_type": "code",
      "metadata": {
        "execution": {
          "iopub.status.busy": "2021-06-22T19:47:18.683632Z",
          "iopub.execute_input": "2021-06-22T19:47:18.68408Z",
          "iopub.status.idle": "2021-06-22T19:47:52.180849Z",
          "shell.execute_reply.started": "2021-06-22T19:47:18.684043Z",
          "shell.execute_reply": "2021-06-22T19:47:52.179959Z"
        },
        "trusted": true,
        "id": "vuhSkyr9Kaea"
      },
      "source": [
        "# !pip install -q -U pip\n",
        "!pip install -q cython\n",
        "# Install pycocotools, the version by default in Colab\n",
        "# has a bug fixed in https://github.com/cocodataset/cocoapi/pull/354\n",
        "!pip install -q -U 'git+https://github.com/cocodataset/cocoapi.git#subdirectory=PythonAPI'\n",
        "!pip install -q -U segmentation-models-pytorch\n",
        "# !pip install -q -U albumentations"
      ],
      "execution_count": null,
      "outputs": []
    },
    {
      "cell_type": "code",
      "metadata": {
        "id": "IFTmiEfp4CXL"
      },
      "source": [
        ""
      ],
      "execution_count": null,
      "outputs": []
    },
    {
      "cell_type": "code",
      "metadata": {
        "id": "0hkUVApoBQPO"
      },
      "source": [
        ""
      ],
      "execution_count": null,
      "outputs": []
    },
    {
      "cell_type": "code",
      "metadata": {
        "_uuid": "8f2839f25d086af736a60e9eeb907d3b93b6e0e5",
        "_cell_guid": "b1076dfc-b9ad-4769-8c92-a6c4dae69d19",
        "execution": {
          "iopub.status.busy": "2021-06-22T19:47:52.183003Z",
          "iopub.execute_input": "2021-06-22T19:47:52.183365Z",
          "iopub.status.idle": "2021-06-22T19:47:52.196401Z",
          "shell.execute_reply.started": "2021-06-22T19:47:52.183325Z",
          "shell.execute_reply": "2021-06-22T19:47:52.195665Z"
        },
        "trusted": true,
        "id": "d_6XV1uPKaec"
      },
      "source": [
        "import json\n",
        "import os\n",
        "import random\n",
        "import numpy as np\n",
        "import pandas as pd\n",
        "import matplotlib.pyplot as plt\n",
        "import matplotlib.path as plt_path\n",
        "  \n",
        "from PIL import Image\n",
        "\n",
        "from pathlib import Path\n",
        "from pycocotools.coco import COCO\n",
        "\n",
        "DATASET_PATH = Path('../input/maschusetbuilding')\n",
        "img_root_path = DATASET_PATH / 'train/images'"
      ],
      "execution_count": null,
      "outputs": []
    },
    {
      "cell_type": "code",
      "metadata": {
        "execution": {
          "iopub.status.busy": "2021-06-22T19:47:52.197871Z",
          "iopub.execute_input": "2021-06-22T19:47:52.198433Z",
          "iopub.status.idle": "2021-06-22T19:47:55.181398Z",
          "shell.execute_reply.started": "2021-06-22T19:47:52.198388Z",
          "shell.execute_reply": "2021-06-22T19:47:55.180608Z"
        },
        "trusted": true,
        "id": "aQYFStPDKaee"
      },
      "source": [
        "import albumentations as albu\n",
        "from albumentations import (\n",
        "    Compose, OneOf, Normalize, Resize, RandomResizedCrop, RandomCrop, HorizontalFlip, VerticalFlip, \n",
        "    RandomBrightness, RandomContrast, RandomBrightnessContrast, Rotate, ShiftScaleRotate, Cutout, \n",
        "    IAAAdditiveGaussianNoise, Transpose, Lambda\n",
        "    )\n",
        "from albumentations.pytorch import ToTensorV2"
      ],
      "execution_count": null,
      "outputs": []
    },
    {
      "cell_type": "code",
      "metadata": {
        "execution": {
          "iopub.status.busy": "2021-06-22T19:47:55.182827Z",
          "iopub.execute_input": "2021-06-22T19:47:55.183165Z",
          "iopub.status.idle": "2021-06-22T19:47:55.337375Z",
          "shell.execute_reply.started": "2021-06-22T19:47:55.183129Z",
          "shell.execute_reply": "2021-06-22T19:47:55.336495Z"
        },
        "trusted": true,
        "id": "eXun1IUuKaef"
      },
      "source": [
        "from sklearn.model_selection import train_test_split"
      ],
      "execution_count": null,
      "outputs": []
    },
    {
      "cell_type": "code",
      "metadata": {
        "execution": {
          "iopub.status.busy": "2021-06-22T19:47:55.340873Z",
          "iopub.execute_input": "2021-06-22T19:47:55.341258Z",
          "iopub.status.idle": "2021-06-22T19:47:56.566412Z",
          "shell.execute_reply.started": "2021-06-22T19:47:55.34122Z",
          "shell.execute_reply": "2021-06-22T19:47:56.565652Z"
        },
        "trusted": true,
        "id": "NBHEZuE7Kaef"
      },
      "source": [
        "import segmentation_models_pytorch as smp"
      ],
      "execution_count": null,
      "outputs": []
    },
    {
      "cell_type": "code",
      "metadata": {
        "execution": {
          "iopub.status.busy": "2021-06-22T19:47:56.569519Z",
          "iopub.execute_input": "2021-06-22T19:47:56.569902Z",
          "iopub.status.idle": "2021-06-22T19:47:56.622075Z",
          "shell.execute_reply.started": "2021-06-22T19:47:56.569865Z",
          "shell.execute_reply": "2021-06-22T19:47:56.620959Z"
        },
        "trusted": true,
        "id": "9laqTpkDKaef"
      },
      "source": [
        "import torch\n",
        "import torchvision\n",
        "import torch.nn as nn\n",
        "import torch.nn.functional as F\n",
        "\n",
        "from torch.optim import Adam, SGD\n",
        "from torch.nn.parameter import Parameter\n",
        "from torch.utils.data import DataLoader, Dataset\n",
        "\n",
        "from torchvision.io import read_image\n",
        "import torchvision.models as models\n",
        "\n",
        "device = torch.device('cuda' if torch.cuda.is_available() else 'cpu')"
      ],
      "execution_count": null,
      "outputs": []
    },
    {
      "cell_type": "code",
      "metadata": {
        "execution": {
          "iopub.status.busy": "2021-06-22T19:47:56.623477Z",
          "iopub.execute_input": "2021-06-22T19:47:56.623972Z",
          "iopub.status.idle": "2021-06-22T19:47:56.634034Z",
          "shell.execute_reply.started": "2021-06-22T19:47:56.623931Z",
          "shell.execute_reply": "2021-06-22T19:47:56.633085Z"
        },
        "trusted": true,
        "id": "PsEE7f08Kaeg"
      },
      "source": [
        "print(torch.__version__)\n",
        "print(torchvision.__version__)\n",
        "print(albu.__version__)"
      ],
      "execution_count": null,
      "outputs": []
    },
    {
      "cell_type": "markdown",
      "metadata": {
        "id": "Pij5RsZ-Kaeg"
      },
      "source": [
        "# Load Datasets"
      ]
    },
    {
      "cell_type": "code",
      "metadata": {
        "_uuid": "d629ff2d2480ee46fbb7e2d37f6b5fab8052498a",
        "_cell_guid": "79c7e3d0-c299-4dcb-8224-4455121ee9b0",
        "execution": {
          "iopub.status.busy": "2021-06-22T19:47:56.63539Z",
          "iopub.execute_input": "2021-06-22T19:47:56.635963Z",
          "iopub.status.idle": "2021-06-22T19:47:57.752252Z",
          "shell.execute_reply.started": "2021-06-22T19:47:56.635925Z",
          "shell.execute_reply": "2021-06-22T19:47:57.751466Z"
        },
        "trusted": true,
        "id": "IcQ-MG9bKaeh"
      },
      "source": [
        "anno_path = DATASET_PATH / 'masachuset-s.json'\n",
        "with open(DATASET_PATH / 'masachuset-s.json', 'r') as f:\n",
        "    annot_data = json.load(f)"
      ],
      "execution_count": null,
      "outputs": []
    },
    {
      "cell_type": "code",
      "metadata": {
        "execution": {
          "iopub.status.busy": "2021-06-22T19:47:57.754622Z",
          "iopub.execute_input": "2021-06-22T19:47:57.755184Z",
          "iopub.status.idle": "2021-06-22T19:47:58.595649Z",
          "shell.execute_reply.started": "2021-06-22T19:47:57.755142Z",
          "shell.execute_reply": "2021-06-22T19:47:58.59464Z"
        },
        "trusted": true,
        "id": "FncYU3eUKaei"
      },
      "source": [
        "coco_anno = COCO(str(anno_path))\n",
        "cat_ids = coco_anno.getCatIds()\n",
        "cats = coco_anno.loadCats(cat_ids)\n",
        "img_ids = coco_anno.getImgIds(catIds=cat_ids)"
      ],
      "execution_count": null,
      "outputs": []
    },
    {
      "cell_type": "code",
      "metadata": {
        "execution": {
          "iopub.status.busy": "2021-06-22T19:47:58.597403Z",
          "iopub.execute_input": "2021-06-22T19:47:58.597823Z",
          "iopub.status.idle": "2021-06-22T19:47:58.617473Z",
          "shell.execute_reply.started": "2021-06-22T19:47:58.59778Z",
          "shell.execute_reply": "2021-06-22T19:47:58.616817Z"
        },
        "trusted": true,
        "id": "S_xXF5bUKaei"
      },
      "source": [
        "def seed_torch(seed=42):\n",
        "    random.seed(seed)\n",
        "    os.environ['PYTHONHASHSEED'] = str(seed)\n",
        "    np.random.seed(seed)\n",
        "    torch.manual_seed(seed)\n",
        "    torch.cuda.manual_seed(seed)\n",
        "    torch.backends.cudnn.deterministic = True\n",
        "\n",
        "\n",
        "# https://stackoverflow.com/questions/50805634/how-to-create-mask-images-from-coco-dataset\n",
        "def get_mask(coco, img_id, cat_ids):\n",
        "    img_inf = coco.loadImgs(img_id)[0]\n",
        "    img_shape = (img_inf['width'], img_inf['height'], len(cat_ids))\n",
        "    ann_ids = coco_anno.getAnnIds(imgIds=img_id,\n",
        "                                  catIds=cat_ids,\n",
        "                                  iscrowd=None)\n",
        "    anns = coco.loadAnns(ann_ids)\n",
        "#     masks = np.zeros((img_inf['height'],img_inf['width'], len(cat_ids)))\n",
        "#     for idx, cat_id in enumerate(cat_ids):\n",
        "#         mask = np.zeros((img_inf['height'],img_inf['width']))\n",
        "#         for ann in anns:\n",
        "#             if cat_id == ann['category_id']:\n",
        "# #                 mask = coco_anno.annToMask(ann)\n",
        "#                 mask = np.maximum(mask, coco_anno.annToMask(ann))\n",
        "#         masks[:, :, idx] = mask\n",
        "    masks = np.zeros(img_shape)\n",
        "    for idx, cat_id in enumerate(cat_ids):\n",
        "        mask = np.zeros(img_shape[:2])\n",
        "        for ann in anns:\n",
        "            if cat_id == ann['category_id']:\n",
        "                mask = np.maximum(mask, coco_anno.annToMask(ann))\n",
        "        masks[:, :, idx] = mask\n",
        "    return masks\n",
        "\n",
        "\n",
        "def visualize(**images):\n",
        "    \"\"\"PLot images in one row.\"\"\"\n",
        "    n = len(images)\n",
        "    plt.figure(figsize=(16, 5))\n",
        "    for i, (name, image) in enumerate(images.items()):\n",
        "        plt.subplot(1, n, i + 1)\n",
        "        plt.xticks([])\n",
        "        plt.yticks([])\n",
        "        plt.title(' '.join(name.split('_')).title())\n",
        "        plt.imshow(image)\n",
        "    plt.show()\n",
        "    \n",
        "\n",
        "seed_torch()"
      ],
      "execution_count": null,
      "outputs": []
    },
    {
      "cell_type": "code",
      "metadata": {
        "execution": {
          "iopub.status.busy": "2021-06-22T19:47:58.618842Z",
          "iopub.execute_input": "2021-06-22T19:47:58.619218Z",
          "iopub.status.idle": "2021-06-22T19:47:58.666579Z",
          "shell.execute_reply.started": "2021-06-22T19:47:58.619178Z",
          "shell.execute_reply": "2021-06-22T19:47:58.665905Z"
        },
        "trusted": true,
        "id": "zpAXafFFKaek"
      },
      "source": [
        "def get_training_augmentation(width=320, height=320):\n",
        "    train_transform = [\n",
        "\n",
        "        albu.HorizontalFlip(p=0.5),\n",
        "\n",
        "        albu.ShiftScaleRotate(scale_limit=0.5, rotate_limit=0, shift_limit=0.1, p=1, border_mode=0),\n",
        "\n",
        "        albu.PadIfNeeded(min_height=height, min_width=width, always_apply=True, border_mode=0),\n",
        "        albu.RandomCrop(height=height, width=width, always_apply=True),\n",
        "\n",
        "        albu.IAAAdditiveGaussianNoise(p=0.2),\n",
        "        albu.IAAPerspective(p=0.5),\n",
        "\n",
        "        albu.OneOf(\n",
        "            [\n",
        "                albu.CLAHE(p=1),\n",
        "                albu.RandomBrightness(p=1),\n",
        "                albu.RandomGamma(p=1),\n",
        "            ],\n",
        "            p=0.9,\n",
        "        ),\n",
        "\n",
        "        albu.OneOf(\n",
        "            [\n",
        "                albu.IAASharpen(p=1),\n",
        "                albu.Blur(blur_limit=3, p=1),\n",
        "                albu.MotionBlur(blur_limit=3, p=1),\n",
        "            ],\n",
        "            p=0.9,\n",
        "        ),\n",
        "\n",
        "        albu.OneOf(\n",
        "            [\n",
        "                albu.RandomContrast(p=1),\n",
        "                albu.HueSaturationValue(p=1),\n",
        "            ],\n",
        "            p=0.9,\n",
        "        ),\n",
        "    ]\n",
        "    return albu.Compose(train_transform)\n",
        "\n",
        "\n",
        "def get_validation_augmentation(width=320, height=320):\n",
        "    \"\"\"Add paddings to make image shape divisible by 32\"\"\"\n",
        "    test_transform = [\n",
        "#         albu.PadIfNeeded(min_height=height, min_width=width)\n",
        "        albu.Resize(width, height)\n",
        "    ]\n",
        "    return albu.Compose(test_transform)\n",
        "\n",
        "\n",
        "def get_transform(resize, phase='train'):\n",
        "    _transforms = []\n",
        "    _mean = [0.485, 0.456, 0.406]\n",
        "    _std = [0.229, 0.224, 0.225]\n",
        "    if phase == 'train':\n",
        "        _transforms.append(Resize(resize, resize))\n",
        "        _transforms.append(HorizontalFlip(p=0.5))\n",
        "        _transforms.append(VerticalFlip(p=0.5))\n",
        "#         for t in [\n",
        "#             RandomResizedCrop(resize, resize),\n",
        "#             Transpose(p=0.5),\n",
        "#             HorizontalFlip(p=0.5),\n",
        "#             VerticalFlip(p=0.5),\n",
        "#             ShiftScaleRotate(p=0.5)]:\n",
        "#             _transforms.append(t)\n",
        "        ,\n",
        "    else:\n",
        "        _transforms.append(Resize(resize, resize))\n",
        "    # \n",
        "    _transforms.append(Normalize(\n",
        "                mean=_mean,\n",
        "                std=_std,\n",
        "            ))\n",
        "    _transforms.append(ToTensorV2())\n",
        "    return Compose(_transforms)\n",
        "\n",
        "\n",
        "def to_tensor(x, **kwargs):\n",
        "    return x.transpose(2, 0, 1).astype('float32')\n",
        "\n",
        "\n",
        "def get_preprocessing(preprocessing_fn):\n",
        "    \"\"\"Construct preprocessing transform\n",
        "\n",
        "    Args:\n",
        "        preprocessing_fn (callbale): data normalization function \n",
        "            (can be specific for each pretrained neural network)\n",
        "    Return:\n",
        "        transform: albumentations.Compose\n",
        "\n",
        "    \"\"\"\n",
        "\n",
        "    _transform = [\n",
        "        Lambda(image=preprocessing_fn),\n",
        "        Lambda(image=to_tensor, mask=to_tensor)\n",
        "    ]\n",
        "    return Compose(_transform)\n",
        "\n",
        "\n",
        "class SegDataset(Dataset):\n",
        "    def __init__(self, root_dir, img_ids, cat_ids, coco_api, transforms=None, preprocessing=None):\n",
        "        self.root_dir = root_dir\n",
        "        self.img_ids = img_ids\n",
        "        self.cat_ids = cat_ids\n",
        "        self.coco_api = coco_api\n",
        "        self.transforms = transforms\n",
        "        self.preprocessing = preprocessing\n",
        "    def _convertToLAB(self):\n",
        "        try:\n",
        "            import cv2\n",
        "            self.labimg = cv2.cvtColor(img, cv2.COLOR_BGR2LAB).astype(np.float64)\n",
        "        except ImportError:\n",
        "            self.labimg = np.copy(self.img)\n",
        "            for i in xrange(self.labimg.shape[0]):\n",
        "                for j in xrange(self.labimg.shape[1]):\n",
        "                    rgb = self.labimg[i, j]\n",
        "                    self.labimg[i, j] = self._rgb2lab(tuple(reversed(rgb)))\n",
        "\n",
        "    def _rgb2lab ( self, inputColor ) :\n",
        "\n",
        "       num = 0\n",
        "       RGB = [0, 0, 0]\n",
        "\n",
        "       for value in inputColor :\n",
        "           value = float(value) / 255\n",
        "\n",
        "           if value > 0.04045 :\n",
        "               value = ( ( value + 0.055 ) / 1.055 ) ** 2.4\n",
        "           else :\n",
        "               value = value / 12.92\n",
        "\n",
        "           RGB[num] = value * 100\n",
        "           num = num + 1\n",
        "\n",
        "       XYZ = [0, 0, 0,]\n",
        "\n",
        "       X = RGB [0] * 0.4124 + RGB [1] * 0.3576 + RGB [2] * 0.1805\n",
        "       Y = RGB [0] * 0.2126 + RGB [1] * 0.7152 + RGB [2] * 0.0722\n",
        "       Z = RGB [0] * 0.0193 + RGB [1] * 0.1192 + RGB [2] * 0.9505\n",
        "       XYZ[ 0 ] = round( X, 4 )\n",
        "       XYZ[ 1 ] = round( Y, 4 )\n",
        "       XYZ[ 2 ] = round( Z, 4 )\n",
        "\n",
        "       XYZ[ 0 ] = float( XYZ[ 0 ] ) / 95.047         # ref_X =  95.047   Observer= 2°, Illuminant= D65\n",
        "       XYZ[ 1 ] = float( XYZ[ 1 ] ) / 100.0          # ref_Y = 100.000\n",
        "       XYZ[ 2 ] = float( XYZ[ 2 ] ) / 108.883        # ref_Z = 108.883\n",
        "\n",
        "       num = 0\n",
        "       for value in XYZ :\n",
        "\n",
        "           if value > 0.008856 :\n",
        "               value = value ** ( 0.3333333333333333 )\n",
        "           else :\n",
        "               value = ( 7.787 * value ) + ( 16 / 116 )\n",
        "\n",
        "           XYZ[num] = value\n",
        "           num = num + 1\n",
        "\n",
        "       Lab = [0, 0, 0]\n",
        "\n",
        "       L = ( 116 * XYZ[ 1 ] ) - 16\n",
        "       a = 500 * ( XYZ[ 0 ] - XYZ[ 1 ] )\n",
        "       b = 200 * ( XYZ[ 1 ] - XYZ[ 2 ] )\n",
        "\n",
        "       Lab [ 0 ] = round( L, 4 )\n",
        "       Lab [ 1 ] = round( a, 4 )\n",
        "       Lab [ 2 ] = round( b, 4 )\n",
        "\n",
        "       return Lab\n",
        "\n",
        "    def generateSuperPixels(self):\n",
        "        self._initData()\n",
        "        indnp = np.mgrid[0:self.height,0:self.width].swapaxes(0,2).swapaxes(0,1)\n",
        "        for i in range(self.ITERATIONS):\n",
        "            self.distances = self.FLT_MAX * np.ones(self.img.shape[:2])\n",
        "            for j in xrange(self.centers.shape[0]):\n",
        "                xlow, xhigh = int(self.centers[j][3] - self.step), int(self.centers[j][3] + self.step)\n",
        "                ylow, yhigh = int(self.centers[j][4] - self.step), int(self.centers[j][4] + self.step)\n",
        "\n",
        "                if xlow <= 0:\n",
        "                    xlow = 0\n",
        "                if xhigh > self.width:\n",
        "                    xhigh = self.width\n",
        "                if ylow <=0:\n",
        "                    ylow = 0\n",
        "                if yhigh > self.height:\n",
        "                    yhigh = self.height\n",
        "\n",
        "                cropimg = self.labimg[ylow : yhigh , xlow : xhigh]\n",
        "                colordiff = cropimg - self.labimg[self.centers[j][4], self.centers[j][3]]\n",
        "                colorDist = np.sqrt(np.sum(np.square(colordiff), axis=2))\n",
        "\n",
        "                yy, xx = np.ogrid[ylow : yhigh, xlow : xhigh]\n",
        "                pixdist = ((yy-self.centers[j][4])**2 + (xx-self.centers[j][3])**2)**0.5\n",
        "                dist = ((colorDist/self.nc)**2 + (pixdist/self.ns)**2)**0.5\n",
        "\n",
        "                distanceCrop = self.distances[ylow : yhigh, xlow : xhigh]\n",
        "                idx = dist < distanceCrop\n",
        "                distanceCrop[idx] = dist[idx]\n",
        "                self.distances[ylow : yhigh, xlow : xhigh] = distanceCrop\n",
        "                self.clusters[ylow : yhigh, xlow : xhigh][idx] = j\n",
        "\n",
        "            for k in xrange(len(self.centers)):\n",
        "                idx = (self.clusters == k)\n",
        "                colornp = self.labimg[idx]\n",
        "                distnp = indnp[idx]\n",
        "                self.centers[k][0:3] = np.sum(colornp, axis=0)\n",
        "                sumy, sumx = np.sum(distnp, axis=0)\n",
        "                self.centers[k][3:] = sumx, sumy\n",
        "                self.centers[k] /= np.sum(idx)\n",
        "\n",
        "    def _initData(self):\n",
        "        self.clusters = -1 * np.ones(self.img.shape[:2])\n",
        "        self.distances = self.FLT_MAX * np.ones(self.img.shape[:2])\n",
        "\n",
        "        centers = []\n",
        "        for i in xrange(self.step, self.width - self.step/2, self.step):\n",
        "            for j in xrange(self.step, self.height - self.step/2, self.step):\n",
        "                \n",
        "                nc = self._findLocalMinimum(center=(i, j))\n",
        "                color = self.labimg[nc[1], nc[0]]\n",
        "                center = [color[0], color[1], color[2], nc[0], nc[1]]\n",
        "                centers.append(center)\n",
        "        self.center_counts = np.zeros(len(centers))\n",
        "        self.centers = np.array(centers)\n",
        "\n",
        "    def createConnectivity(self):\n",
        "        label = 0\n",
        "        adjlabel = 0\n",
        "        lims = self.width * self.height / self.centers.shape[0]\n",
        "        dx4 = [-1, 0, 1, 0]\n",
        "        dy4 = [0, -1, 0, 1]\n",
        "        new_clusters = -1 * np.ones(self.img.shape[:2]).astype(np.int64)\n",
        "        elements = []\n",
        "        for i in xrange(self.width):\n",
        "            for j in xrange(self.height):\n",
        "                if new_clusters[j, i] == -1:\n",
        "                    elements = []\n",
        "                    elements.append((j, i))\n",
        "                    for dx, dy in zip(dx4, dy4):\n",
        "                        x = elements[0][1] + dx\n",
        "                        y = elements[0][0] + dy\n",
        "                        if (x>=0 and x < self.width and \n",
        "                            y>=0 and y < self.height and \n",
        "                            new_clusters[y, x] >=0):\n",
        "                            adjlabel = new_clusters[y, x]\n",
        "                count = 1\n",
        "                c = 0\n",
        "                while c < count:\n",
        "                    for dx, dy in zip(dx4, dy4):\n",
        "                        x = elements[c][1] + dx\n",
        "                        y = elements[c][0] + dy\n",
        "\n",
        "                        if (x>=0 and x<self.width and y>=0 and y<self.height):\n",
        "                            if new_clusters[y, x] == -1 and self.clusters[j, i] == self.clusters[y, x]:\n",
        "                                elements.append((y, x))\n",
        "                                new_clusters[y, x] = label\n",
        "                                count+=1\n",
        "                    c+=1\n",
        "                if (count <= lims >> 2):\n",
        "                    for c in range(count):\n",
        "                        new_clusters[elements[c]] = adjlabel\n",
        "                    label-=1\n",
        "                label+=1\n",
        "        self.new_clusters = new_clusters\n",
        "    \n",
        "    def __getitem__(self, idx):\n",
        "        img_id = self.img_ids[idx]\n",
        "        img_inf = self.coco_api.loadImgs(img_id)[0]\n",
        "        file_name = img_inf['file_name']\n",
        "        file_path = self.root_dir / file_name\n",
        "        img = Image.open(file_path).convert('RGB')\n",
        "        mask = get_mask(self.coco_api, img_id, self.cat_ids)\n",
        "        \n",
        "        if self.transforms:\n",
        "            augmented = self.transforms(image=np.array(img), mask=mask)\n",
        "            img = augmented['image']\n",
        "            mask = augmented['mask']\n",
        "\n",
        "        if self.preprocessing:\n",
        "            augmented = self.preprocessing(image=img, mask=mask)\n",
        "            img = augmented['image']\n",
        "            mask = augmented['mask']\n",
        "\n",
        "        return img, mask\n",
        "    \n",
        "    def __len__(self):\n",
        "        return len(self.img_ids)"
      ],
      "execution_count": null,
      "outputs": []
    },
    {
      "cell_type": "code",
      "metadata": {
        "execution": {
          "iopub.status.busy": "2021-06-22T19:47:58.668731Z",
          "iopub.execute_input": "2021-06-22T19:47:58.669377Z",
          "iopub.status.idle": "2021-06-22T19:47:58.68607Z",
          "shell.execute_reply.started": "2021-06-22T19:47:58.669333Z",
          "shell.execute_reply": "2021-06-22T19:47:58.685056Z"
        },
        "trusted": true,
        "id": "a1dRpHdvKaew"
      },
      "source": [
        "train_img_ids, valid_img_ids = train_test_split(img_ids, test_size=0.1, random_state=42)\n",
        "valid_img_ids, test_img_ids = train_test_split(valid_img_ids, test_size=0.5, random_state=42)\n",
        "print(len(train_img_ids), len(valid_img_ids), len(test_img_ids))"
      ],
      "execution_count": null,
      "outputs": []
    },
    {
      "cell_type": "code",
      "metadata": {
        "execution": {
          "iopub.status.busy": "2021-06-23T04:27:41.61887Z",
          "iopub.execute_input": "2021-06-23T04:27:41.619231Z",
          "iopub.status.idle": "2021-06-23T04:27:41.635695Z",
          "shell.execute_reply.started": "2021-06-23T04:27:41.6192Z",
          "shell.execute_reply": "2021-06-23T04:27:41.63486Z"
        },
        "trusted": true,
        "id": "2otBqt27Kaey"
      },
      "source": [
        "sample_dataset = SegDataset(root_dir=img_root_path,\n",
        "                           img_ids=train_img_ids,\n",
        "                           cat_ids=cat_ids,\n",
        "                           coco_api=coco_anno)\n",
        "image, mask = sample_dataset[4] # get some sample\n",
        "# visualize(\n",
        "#     image=image, \n",
        "#     builing_mask=mask.squeeze(),\n",
        "# )"
      ],
      "execution_count": null,
      "outputs": []
    },
    {
      "cell_type": "code",
      "metadata": {
        "execution": {
          "iopub.status.busy": "2021-06-22T19:47:58.891663Z",
          "iopub.execute_input": "2021-06-22T19:47:58.892018Z",
          "iopub.status.idle": "2021-06-22T19:47:59.498505Z",
          "shell.execute_reply.started": "2021-06-22T19:47:58.891979Z",
          "shell.execute_reply": "2021-06-22T19:47:59.497632Z"
        },
        "trusted": true,
        "id": "eCy-86omKaez"
      },
      "source": [
        "augmented_dataset = SegDataset(root_dir=img_root_path,\n",
        "                               img_ids=train_img_ids,\n",
        "                               cat_ids=cat_ids,\n",
        "                               coco_api=coco_anno,\n",
        "                               transforms=get_transform(resize=300, phase='train'))\n",
        "for i in range(3):\n",
        "    image, mask = augmented_dataset[4]\n",
        "    visualize(image=image.numpy().transpose(1, 2, 0), mask=mask.squeeze())"
      ],
      "execution_count": null,
      "outputs": []
    },
    {
      "cell_type": "markdown",
      "metadata": {
        "id": "th7YXHy3Kaez"
      },
      "source": [
        "# segmentation-models-pytorch"
      ]
    },
    {
      "cell_type": "code",
      "metadata": {
        "execution": {
          "iopub.status.busy": "2021-06-22T19:47:59.499736Z",
          "iopub.execute_input": "2021-06-22T19:47:59.500253Z",
          "iopub.status.idle": "2021-06-22T19:47:59.504218Z",
          "shell.execute_reply.started": "2021-06-22T19:47:59.500215Z",
          "shell.execute_reply": "2021-06-22T19:47:59.503366Z"
        },
        "trusted": true,
        "id": "ZdWxOlj-Kae0"
      },
      "source": [
        "EPOCHS = 100\n",
        "BATCH_SIZE = 15"
      ],
      "execution_count": null,
      "outputs": []
    },
    {
      "cell_type": "code",
      "metadata": {
        "execution": {
          "iopub.status.busy": "2021-06-22T19:47:59.505468Z",
          "iopub.execute_input": "2021-06-22T19:47:59.505994Z",
          "iopub.status.idle": "2021-06-22T19:48:04.875499Z",
          "shell.execute_reply.started": "2021-06-22T19:47:59.505956Z",
          "shell.execute_reply": "2021-06-22T19:48:04.874721Z"
        },
        "trusted": true,
        "id": "vRHbXExwKae0"
      },
      "source": [
        "ENCODER = 'efficientnet-b5'\n",
        "ENCODER_WEIGHTS = 'imagenet'\n",
        "CLASSES = ['building']\n",
        "ACTIVATION = 'sigmoid' # could be None for logits or 'softmax2d' for multicalss segmentation\n",
        "\n",
        "# create segmentation model with pretrained encoder\n",
        "model = smp.Unet(\n",
        "    encoder_name=ENCODER, \n",
        "    encoder_weights=ENCODER_WEIGHTS, \n",
        "    classes=len(CLASSES), \n",
        "    activation=ACTIVATION,\n",
        ")\n",
        "\n",
        "preprocessing_fn = smp.encoders.get_preprocessing_fn(ENCODER, ENCODER_WEIGHTS)"
      ],
      "execution_count": null,
      "outputs": []
    },
    {
      "cell_type": "code",
      "metadata": {
        "execution": {
          "iopub.status.busy": "2021-06-22T19:48:04.876886Z",
          "iopub.execute_input": "2021-06-22T19:48:04.877296Z",
          "iopub.status.idle": "2021-06-22T19:48:04.883229Z",
          "shell.execute_reply.started": "2021-06-22T19:48:04.87725Z",
          "shell.execute_reply": "2021-06-22T19:48:04.88241Z"
        },
        "trusted": true,
        "id": "CyIROjoyKae1"
      },
      "source": [
        "_preprocessing = get_preprocessing(preprocessing_fn)\n",
        "\n",
        "train_dataset = SegDataset(root_dir=img_root_path,\n",
        "                           img_ids=train_img_ids,\n",
        "                           cat_ids=cat_ids,\n",
        "                           coco_api=coco_anno,\n",
        "                           transforms=get_training_augmentation(288, 288),\n",
        "                           preprocessing=_preprocessing)\n",
        "valid_dataset = SegDataset(root_dir=img_root_path,\n",
        "                           img_ids=valid_img_ids,\n",
        "                           cat_ids=cat_ids,\n",
        "                           coco_api=coco_anno,\n",
        "                           transforms=get_validation_augmentation(288, 288),\n",
        "                           preprocessing=_preprocessing)"
      ],
      "execution_count": null,
      "outputs": []
    },
    {
      "cell_type": "code",
      "metadata": {
        "execution": {
          "iopub.status.busy": "2021-06-22T19:48:04.884344Z",
          "iopub.execute_input": "2021-06-22T19:48:04.884983Z",
          "iopub.status.idle": "2021-06-22T19:48:04.894356Z",
          "shell.execute_reply.started": "2021-06-22T19:48:04.884942Z",
          "shell.execute_reply": "2021-06-22T19:48:04.893257Z"
        },
        "trusted": true,
        "id": "SIsywsJzKae1"
      },
      "source": [
        "train_loader = DataLoader(train_dataset,\n",
        "                          batch_size=BATCH_SIZE,\n",
        "                          shuffle=True,\n",
        "                          num_workers=4,\n",
        "                          pin_memory=True,\n",
        "                          drop_last=True)\n",
        "valid_loader = DataLoader(valid_dataset,\n",
        "                          batch_size=BATCH_SIZE,\n",
        "                          shuffle=True,\n",
        "                          num_workers=4,\n",
        "                          pin_memory=True,\n",
        "                          drop_last=True)"
      ],
      "execution_count": null,
      "outputs": []
    },
    {
      "cell_type": "code",
      "metadata": {
        "execution": {
          "iopub.status.busy": "2021-06-22T19:48:04.895954Z",
          "iopub.execute_input": "2021-06-22T19:48:04.896516Z",
          "iopub.status.idle": "2021-06-22T19:48:04.917354Z",
          "shell.execute_reply.started": "2021-06-22T19:48:04.896477Z",
          "shell.execute_reply": "2021-06-22T19:48:04.916591Z"
        },
        "trusted": true,
        "id": "BnMRrGffKae2"
      },
      "source": [
        "loss = smp.utils.losses.DiceLoss()\n",
        "metrics = [\n",
        "    smp.utils.metrics.IoU(threshold=0.6), smp.utils.metrics.Fscore(threshold=0.6), smp.utils.metrics.Precision(threshold=0.6) ,\n",
        "    smp.utils.metrics.Recall(threshold=0.6) ,\n",
        "    smp.utils.metrics.Accuracy(threshold=0.6)\n",
        "]\n",
        "optimizer = torch.optim.Adam([ \n",
        "    dict(params=model.parameters(), lr=0.0001),\n",
        "])\n"
      ],
      "execution_count": null,
      "outputs": []
    },
    {
      "cell_type": "markdown",
      "metadata": {
        "id": "KJ0ycYHHKae2"
      },
      "source": [
        "# Traininig"
      ]
    },
    {
      "cell_type": "code",
      "metadata": {
        "execution": {
          "iopub.status.busy": "2021-06-22T19:48:04.918989Z",
          "iopub.execute_input": "2021-06-22T19:48:04.919405Z",
          "iopub.status.idle": "2021-06-22T19:48:08.912516Z",
          "shell.execute_reply.started": "2021-06-22T19:48:04.919368Z",
          "shell.execute_reply": "2021-06-22T19:48:08.911575Z"
        },
        "trusted": true,
        "id": "PN7tV_qYKae3"
      },
      "source": [
        "train_epoch = smp.utils.train.TrainEpoch(\n",
        "    model, \n",
        "    loss=loss, \n",
        "    metrics=metrics, \n",
        "    optimizer=optimizer,\n",
        "    device=device,\n",
        "    verbose=True,\n",
        ")\n",
        "\n",
        "valid_epoch = smp.utils.train.ValidEpoch(\n",
        "    model, \n",
        "    loss=loss, \n",
        "    metrics=metrics, \n",
        "    device=device,\n",
        "    verbose=True,\n",
        ")"
      ],
      "execution_count": null,
      "outputs": []
    },
    {
      "cell_type": "code",
      "metadata": {
        "execution": {
          "iopub.status.busy": "2021-06-22T19:48:08.913798Z",
          "iopub.execute_input": "2021-06-22T19:48:08.91438Z",
          "iopub.status.idle": "2021-06-23T04:05:38.078963Z",
          "shell.execute_reply.started": "2021-06-22T19:48:08.91434Z",
          "shell.execute_reply": "2021-06-23T04:05:38.077621Z"
        },
        "trusted": true,
        "id": "vsr8q-1DKae3"
      },
      "source": [
        "\n",
        "max_score = 0\n",
        "\n",
        "\n",
        "#train accurascy, train loss, val_accuracy, val_loss \n",
        "x_epoch_data = []\n",
        "train_dice_loss = []\n",
        "train_iou_score = []\n",
        "valid_dice_loss = []\n",
        "valid_iou_score = []\n",
        "train_pre_loss = []\n",
        "train_recall_score = []\n",
        "valid_pre_loss = []\n",
        "valid_recall_score = []\n",
        "train_acc = []\n",
        "valid_acc = []\n",
        "train_fscore=[]\n",
        "valid_fscore=[]\n",
        "\n",
        "for i in range(EPOCHS):\n",
        "\n",
        "    print(f'\\nEpoch: {i + 1}')\n",
        "    train_logs = train_epoch.run(train_loader)\n",
        "    valid_logs = valid_epoch.run(valid_loader)\n",
        "\n",
        "    x_epoch_data.append(i)\n",
        "    train_dice_loss.append(train_logs['dice_loss'])\n",
        "    train_iou_score.append(train_logs['iou_score'])\n",
        "    valid_dice_loss.append(valid_logs['dice_loss'])\n",
        "    valid_iou_score.append(valid_logs['iou_score'])\n",
        "    train_pre_loss.append(train_logs['precision'])\n",
        "    train_recall_score.append(train_logs['recall'])\n",
        "    valid_pre_loss.append(valid_logs['precision'])\n",
        "    valid_recall_score.append(valid_logs['recall'])\n",
        "    train_acc.append(train_logs['accuracy'])\n",
        "    valid_acc.append(valid_logs['accuracy'])\n",
        "    train_fscore.append(train_logs['fscore'])\n",
        "    valid_fscore.append(valid_logs['fscore'])\n",
        "\n",
        "    # do something (save model, change lr, etc.)\n",
        "    if EPOCHS%5==0:\n",
        "        torch.save({\n",
        "            'epoch': EPOCHS,\n",
        "            'model_state_dict': model.state_dict(),\n",
        "            'optimizer_state_dict': optimizer.state_dict(),\n",
        "            }, './general_model_Unet_real.pth')\n",
        "        \n",
        "    if max_score < valid_logs['iou_score']:\n",
        "        max_score1 = valid_logs['dice_loss']\n",
        "        max_score2 =valid_logs['iou_score']\n",
        "        max_score3 =valid_logs['precision']\n",
        "        max_score4 =valid_logs['recall']\n",
        "        max_score5 =valid_logs['fscore']\n",
        "        max_score6 =valid_logs['accuracy']\n",
        "        torch.save(model, './best_model_Unet_real.pth')\n",
        "        print('Model saved!')\n",
        "\n",
        "    if i == 25:\n",
        "        optimizer.param_groups[0]['lr'] = 1e-5\n",
        "        print('Decrease decoder learning rate to 1e-5!')\n",
        "        \n",
        "        \n",
        "torch.save(model,'./entire_model_Unet_real.pth' )"
      ],
      "execution_count": null,
      "outputs": []
    },
    {
      "cell_type": "code",
      "metadata": {
        "execution": {
          "iopub.status.busy": "2021-06-23T04:36:57.209549Z",
          "iopub.execute_input": "2021-06-23T04:36:57.209928Z",
          "iopub.status.idle": "2021-06-23T04:36:57.216121Z",
          "shell.execute_reply.started": "2021-06-23T04:36:57.209889Z",
          "shell.execute_reply": "2021-06-23T04:36:57.215149Z"
        },
        "trusted": true,
        "id": "_1xVZuxjKae4"
      },
      "source": [
        "# max score1 means dice loss, max_score2 means iou score,\n",
        "# max_score3 means precision , max_score4 means recall\n",
        "# max_score5 means fscore and max_score 6 means accuracy\n",
        "print(max_score1,max_score2,max_score3,max_score4,max_score5,max_score6)"
      ],
      "execution_count": null,
      "outputs": []
    },
    {
      "cell_type": "code",
      "metadata": {
        "execution": {
          "iopub.status.busy": "2021-06-23T04:25:29.752234Z",
          "iopub.execute_input": "2021-06-23T04:25:29.752691Z",
          "iopub.status.idle": "2021-06-23T04:25:29.758958Z",
          "shell.execute_reply.started": "2021-06-23T04:25:29.75265Z",
          "shell.execute_reply": "2021-06-23T04:25:29.75804Z"
        },
        "trusted": true,
        "id": "rbyQOgRWKae4"
      },
      "source": [
        ""
      ],
      "execution_count": null,
      "outputs": []
    },
    {
      "cell_type": "code",
      "metadata": {
        "execution": {
          "iopub.status.busy": "2021-06-23T04:05:38.178566Z",
          "iopub.execute_input": "2021-06-23T04:05:38.179041Z",
          "iopub.status.idle": "2021-06-23T04:05:38.523717Z",
          "shell.execute_reply.started": "2021-06-23T04:05:38.179Z",
          "shell.execute_reply": "2021-06-23T04:05:38.522721Z"
        },
        "trusted": true,
        "id": "hnQJuzI5Kae4"
      },
      "source": [
        "fig = plt.figure(figsize=(14, 5))\n",
        "\n",
        "ax1 = fig.add_subplot(1, 2, 1)\n",
        "line1, = ax1.plot(x_epoch_data,train_dice_loss,label='train') \n",
        "line2, = ax1.plot(x_epoch_data,valid_dice_loss,label='validation')\n",
        "ax1.set_title(\"dice loss\")\n",
        "ax1.set_xlabel('epoch')\n",
        "ax1.set_ylabel('dice_loss')\n",
        "ax1.legend(loc='upper right')\n",
        "\n",
        "ax2 = fig.add_subplot(1, 2, 2)\n",
        "line1, = ax2.plot(x_epoch_data,train_iou_score,label='train')\n",
        "line2, = ax2.plot(x_epoch_data,valid_iou_score,label='validation') \n",
        "ax2.set_title(\"iou score\")\n",
        "ax2.set_xlabel('epoch')\n",
        "ax2.set_ylabel('iou_score')\n",
        "ax2.legend(loc='upper left')\n",
        "\n",
        "\n",
        "\n",
        "plt.show()"
      ],
      "execution_count": null,
      "outputs": []
    },
    {
      "cell_type": "code",
      "metadata": {
        "execution": {
          "iopub.status.busy": "2021-06-23T04:19:00.215913Z",
          "iopub.execute_input": "2021-06-23T04:19:00.216247Z",
          "iopub.status.idle": "2021-06-23T04:19:00.479525Z",
          "shell.execute_reply.started": "2021-06-23T04:19:00.216216Z",
          "shell.execute_reply": "2021-06-23T04:19:00.478693Z"
        },
        "trusted": true,
        "id": "uNIc3K_QKae5"
      },
      "source": [
        "fig = plt.figure(figsize=(14, 5))\n",
        "\n",
        "ax3 = fig.add_subplot(1, 2, 1)\n",
        "line1, = ax3.plot(x_epoch_data,train_pre_loss,label='train')\n",
        "line2, = ax3.plot(x_epoch_data,valid_pre_loss,label='validation') \n",
        "ax3.set_title(\"Precision\")\n",
        "ax3.set_xlabel('epoch')\n",
        "ax3.set_ylabel('Precision')\n",
        "ax3.legend(loc='upper left')\n",
        "\n",
        "ax4 = fig.add_subplot(1, 2, 2)\n",
        "line1, = ax4.plot(x_epoch_data,train_recall_score,label='train')\n",
        "line2, = ax4.plot(x_epoch_data,valid_recall_score,label='validation') \n",
        "ax4.set_title(\"Recall\")\n",
        "ax4.set_xlabel('epoch')\n",
        "ax4.set_ylabel('Recall')\n",
        "ax4.legend(loc='right')\n",
        "\n",
        "plt.show()"
      ],
      "execution_count": null,
      "outputs": []
    },
    {
      "cell_type": "code",
      "metadata": {
        "execution": {
          "iopub.status.busy": "2021-06-23T04:05:38.816632Z",
          "iopub.execute_input": "2021-06-23T04:05:38.817035Z",
          "iopub.status.idle": "2021-06-23T04:05:39.761961Z",
          "shell.execute_reply.started": "2021-06-23T04:05:38.816994Z",
          "shell.execute_reply": "2021-06-23T04:05:39.76104Z"
        },
        "trusted": true,
        "id": "h2nG2J65Kae5"
      },
      "source": [
        "fig = plt.figure(figsize=(14, 5))\n",
        "\n",
        "ax5 = fig.add_subplot(1, 2, 1)\n",
        "line1, = ax5.plot(x_epoch_data,train_fscore,label='train')\n",
        "line2, = ax5.plot(x_epoch_data,valid_fscore,label='validation') \n",
        "ax5.set_title(\"F score\")\n",
        "ax5.set_xlabel('epoch')\n",
        "ax5.set_ylabel('F score')\n",
        "ax5.legend(loc='upper left')\n",
        "\n",
        "ax6 = fig.add_subplot(1, 2, 2)\n",
        "line1, = ax6.plot(x_epoch_data,train_acc,label='train')\n",
        "line2, = ax6.plot(x_epoch_data,valid_acc,label='validation') \n",
        "ax6.set_title(\"Accuracy\")\n",
        "ax6.set_xlabel('epoch')\n",
        "ax6.set_ylabel('Accuracy')\n",
        "ax6.legend(loc='upper right')\n",
        "\n",
        "plt.show()"
      ],
      "execution_count": null,
      "outputs": []
    },
    {
      "cell_type": "code",
      "metadata": {
        "execution": {
          "iopub.status.busy": "2021-06-23T04:05:39.763712Z",
          "iopub.execute_input": "2021-06-23T04:05:39.764067Z",
          "iopub.status.idle": "2021-06-23T04:05:40.689267Z",
          "shell.execute_reply.started": "2021-06-23T04:05:39.764032Z",
          "shell.execute_reply": "2021-06-23T04:05:40.68849Z"
        },
        "trusted": true,
        "id": "srRssDr8Kae6"
      },
      "source": [
        "best_model = torch.load('./best_model_Unet_real.pth')"
      ],
      "execution_count": null,
      "outputs": []
    },
    {
      "cell_type": "code",
      "metadata": {
        "execution": {
          "iopub.status.busy": "2021-06-23T04:05:40.690544Z",
          "iopub.execute_input": "2021-06-23T04:05:40.690889Z",
          "iopub.status.idle": "2021-06-23T04:05:40.695778Z",
          "shell.execute_reply.started": "2021-06-23T04:05:40.690853Z",
          "shell.execute_reply": "2021-06-23T04:05:40.694953Z"
        },
        "trusted": true,
        "id": "V_2HnTUEKae6"
      },
      "source": [
        "test_dataset = SegDataset(root_dir=img_root_path,\n",
        "                           img_ids=test_img_ids,\n",
        "                           cat_ids=cat_ids,\n",
        "                           coco_api=coco_anno,\n",
        "                           transforms=get_validation_augmentation(288, 288),\n",
        "                           preprocessing=_preprocessing)\n",
        "test_dataloader = DataLoader(test_dataset)"
      ],
      "execution_count": null,
      "outputs": []
    },
    {
      "cell_type": "code",
      "metadata": {
        "execution": {
          "iopub.status.busy": "2021-06-23T04:05:40.696971Z",
          "iopub.execute_input": "2021-06-23T04:05:40.69747Z",
          "iopub.status.idle": "2021-06-23T04:06:07.014091Z",
          "shell.execute_reply.started": "2021-06-23T04:05:40.69743Z",
          "shell.execute_reply": "2021-06-23T04:06:07.013015Z"
        },
        "trusted": true,
        "id": "JwkfpKGdKae7"
      },
      "source": [
        "test_epoch = smp.utils.train.ValidEpoch(\n",
        "    model=best_model,\n",
        "    loss=loss,\n",
        "    metrics=metrics,\n",
        "    device=device,\n",
        "    verbose=True\n",
        ")\n",
        "\n",
        "logs = test_epoch.run(test_dataloader)"
      ],
      "execution_count": null,
      "outputs": []
    },
    {
      "cell_type": "code",
      "metadata": {
        "execution": {
          "iopub.status.busy": "2021-06-23T04:17:51.735496Z",
          "iopub.execute_input": "2021-06-23T04:17:51.735872Z",
          "iopub.status.idle": "2021-06-23T04:17:52.374492Z",
          "shell.execute_reply.started": "2021-06-23T04:17:51.735838Z",
          "shell.execute_reply": "2021-06-23T04:17:52.373096Z"
        },
        "trusted": true,
        "id": "u8wnW3mSKae7"
      },
      "source": [
        "for i in range(3):\n",
        "    n = np.random.choice(len(test_dataset))\n",
        "    image, gt_mask = test_dataset[n]\n",
        "\n",
        "    gt_mask = gt_mask.squeeze()\n",
        "\n",
        "    x_tensor = torch.from_numpy(image).to(device).unsqueeze(0)\n",
        "    pr_mask = best_model.predict(x_tensor)\n",
        "    pr_mask = (pr_mask.squeeze().cpu().numpy().round())\n",
        "\n",
        "    visualize(\n",
        "        image=image.transpose(1, 2, 0), \n",
        "        ground_truth_mask=gt_mask, \n",
        "        predicted_mask=pr_mask\n",
        "    )"
      ],
      "execution_count": null,
      "outputs": []
    },
    {
      "cell_type": "code",
      "metadata": {
        "trusted": true,
        "id": "FS6-0Ph3Kae8"
      },
      "source": [
        ""
      ],
      "execution_count": null,
      "outputs": []
    }
  ]
}